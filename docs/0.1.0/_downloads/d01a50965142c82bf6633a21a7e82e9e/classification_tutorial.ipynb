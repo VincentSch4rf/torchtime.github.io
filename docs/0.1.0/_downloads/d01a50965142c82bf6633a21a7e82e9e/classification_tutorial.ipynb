{
  "cells": [
    {
      "cell_type": "markdown",
      "metadata": {},
      "source": [
        "\n# Time Series Classification with InceptionTime\n\n**Author**: [Vincent Scharf](vincent.scharf@smail.inf.h-brs.de)_\n\nIn this tutorial, we are going to learn how to train an InceptionTime style classifier.\n\nFor this tutorial, we will use the Beef dataset available at the *UEA & UCR Time Series\nClassification Repository* :cite:`Dau2019UCR`.\nThe beef dataset consists of four classes of beef spectrograms, from pure beef and beef\nadulterated with varying degrees of offal.\nThe spectrograms are univariate time series of length 470. The train- and test set consist\nof 30 sampels each.\n\n<div class=\"alert alert-info\"><h4>Note</h4><p>``torchtime`` provides easy access to common, publicly accessible\n    datasets. Please refer to the official documentation for the list of\n    available datasets.</p></div>\n\nWe will do the following steps in order:\n\n1. Load the Beef training and test datasets using ``torchtime`` and\n    impute potential missing values\n2. Define an InceptionTime style classifier\n3. Define a loss function\n4. Train the network on the training data\n5. Test the network on the test data\n\n## 1. Load and Normalize Beef\n\nUsing ``torchtime``, it\u2019s extremely easy to load datasets contained in the UCR & UEA\ntime series classification repository.\n"
      ]
    },
    {
      "cell_type": "code",
      "execution_count": null,
      "metadata": {
        "collapsed": false
      },
      "outputs": [],
      "source": [
        "import torch\nimport torch.utils.data as data\nimport torchtime\nimport torchtime.transforms as transforms"
      ]
    },
    {
      "cell_type": "markdown",
      "metadata": {},
      "source": [
        "The output of torchtime datasets can contain NaN values.\nWe impute those missing values using ``transforms.Nan2Value()``.\n\n"
      ]
    },
    {
      "cell_type": "markdown",
      "metadata": {},
      "source": [
        "<div class=\"alert alert-info\"><h4>Note</h4><p>If running on Windows and you get a BrokenPipeError, try setting\n    the num_worker of torch.utils.data.DataLoader() to 0.</p></div>\n\n"
      ]
    },
    {
      "cell_type": "code",
      "execution_count": null,
      "metadata": {
        "collapsed": false
      },
      "outputs": [],
      "source": [
        "transform = transforms.Compose(\n    [transforms.Nan2Value()])\n\nbatch_size = 4\n\ntrainset = torchtime.datasets.UCR(root='./data', name=\"Beef\", train=True,\n                                  download=True, transform=transform)\ntrainloader = data.DataLoader(trainset, batch_size=batch_size, shuffle=True, num_workers=2)\n\ntestset = torchtime.datasets.UCR(root='./data', name=\"Beef\", train=False,\n                                 download=True, transform=transform)\ntestloader = data.DataLoader(testset, batch_size=batch_size,\n                             shuffle=False, num_workers=2)\n\nclasses = ('unadulterated', 'heart', 'kidney', 'liver', 'tripe')"
      ]
    },
    {
      "cell_type": "markdown",
      "metadata": {},
      "source": [
        "Let us show some of the training spectrograms, for fun.\n\n"
      ]
    },
    {
      "cell_type": "code",
      "execution_count": null,
      "metadata": {
        "collapsed": false
      },
      "outputs": [],
      "source": [
        "import matplotlib.pyplot as plt\n\ndef seriesshow(sequences, labels):\n    \"\"\" Plot a univariate time series.\n    \"\"\"\n    fig, ax = plt.subplots()\n    for series, label in zip(sequences, labels):\n        for dimension in series:\n            ax.plot(dimension, label=classes[label])\n    ax.legend()\n    ax.grid()\n    fig.show()\n\n\n# get some random training sequences\ndataiter = iter(trainloader)\nsequences, labels = next(dataiter)\n\n# show sequences\nseriesshow(sequences, labels)\n# print labels\nprint(' '.join(f'{classes[labels[j]]:5s}' for j in range(batch_size)))"
      ]
    },
    {
      "cell_type": "markdown",
      "metadata": {},
      "source": [
        "## 2. Define an InceptionTime style classifier\nWe import the InceptionTime Model :cite:`IsmailFawaz2020InceptionTime` available through\nthe ``torchtime.models`` package and initialize it such that it takes a 1-channel time series\nas an input and maps it onto one of the five classes defined above.\n\n"
      ]
    },
    {
      "cell_type": "code",
      "execution_count": null,
      "metadata": {
        "collapsed": false
      },
      "outputs": [],
      "source": [
        "import torchtime.models as models\n\nnet = models.InceptionTime(n_inputs=1, n_classes=5)"
      ]
    },
    {
      "cell_type": "markdown",
      "metadata": {},
      "source": [
        "## 3. Define a Loss function and optimizer\nLet's use a Classification Cross-Entropy loss and SGD with momentum.\n\n"
      ]
    },
    {
      "cell_type": "code",
      "execution_count": null,
      "metadata": {
        "collapsed": false
      },
      "outputs": [],
      "source": [
        "import torch.nn as nn\nimport torch.optim as optim\n\ncriterion = nn.CrossEntropyLoss()\noptimizer = optim.SGD(net.parameters(), lr=0.001, momentum=0.9)"
      ]
    },
    {
      "cell_type": "markdown",
      "metadata": {},
      "source": [
        "## 4. Train the network\n\nThis is when things start to get interesting.\nWe simply have to loop over our data iterator, and feed the inputs to the\nnetwork and optimize.\n\n"
      ]
    },
    {
      "cell_type": "code",
      "execution_count": null,
      "metadata": {
        "collapsed": false
      },
      "outputs": [],
      "source": [
        "for epoch in range(10):  # loop over the dataset multiple times\n\n    running_loss = 0.0\n    for i, data in enumerate(trainloader, 0):\n        # get the inputs; data is a list of [inputs, labels]\n        inputs, labels = data\n\n        # zero the parameter gradients\n        optimizer.zero_grad()\n\n        # forward + backward + optimize\n        outputs = net(inputs)\n        loss = criterion(outputs, labels)\n        loss.backward()\n        optimizer.step()\n\n        # print statistics\n        running_loss += loss.item()\n        if i % 2000 == 1999:  # print every 2000 mini-batches\n            print(f'[{epoch + 1}, {i + 1:5d}] loss: {running_loss / 2000:.3f}')\n            running_loss = 0.0\n\nprint('Finished Training')"
      ]
    },
    {
      "cell_type": "markdown",
      "metadata": {},
      "source": [
        "Let's quickly save our trained model:\n\n"
      ]
    },
    {
      "cell_type": "code",
      "execution_count": null,
      "metadata": {
        "collapsed": false
      },
      "outputs": [],
      "source": [
        "PATH = './beef_classifier.pth'\ntorch.save(net.state_dict(), PATH)"
      ]
    },
    {
      "cell_type": "markdown",
      "metadata": {},
      "source": [
        "See [here](https://pytorch.org/docs/stable/notes/serialization.html)\nfor more details on saving PyTorch models.\n\n## 5. Test the network on the test data\n\nWe have trained the network for 10 passes over the training dataset (as it is a relatively\nsmall dataset with a 1:1 train/test split).\nBut we need to check if the network has learnt anything at all.\n\nWe will check this by predicting the class label that the neural network\noutputs, and checking it against the ground-truth. If the prediction is\ncorrect, we add the sample to the list of correct predictions.\n\nOkay, first step. Let us display a series from the test set to get familiar.\n\n"
      ]
    },
    {
      "cell_type": "code",
      "execution_count": null,
      "metadata": {
        "collapsed": false
      },
      "outputs": [],
      "source": [
        "dataiter = iter(testloader)\nsequences, labels = next(dataiter)\n\n# print sequences\nseriesshow(sequences, labels)\nprint('GroundTruth: ', ' '.join(f'{classes[labels[j]]:5s}' for j in range(4)))"
      ]
    },
    {
      "cell_type": "markdown",
      "metadata": {},
      "source": [
        "Next, let's load back in our saved model (note: saving and re-loading the model\nwasn't necessary here, we only did it to illustrate how to do so):\n\n"
      ]
    },
    {
      "cell_type": "code",
      "execution_count": null,
      "metadata": {
        "collapsed": false
      },
      "outputs": [],
      "source": [
        "net = models.InceptionTime(n_inputs=1, n_classes=5)\nnet.load_state_dict(torch.load(PATH))"
      ]
    },
    {
      "cell_type": "markdown",
      "metadata": {},
      "source": [
        "Okay, now let us see what the neural network thinks these examples above are:\n\n"
      ]
    },
    {
      "cell_type": "code",
      "execution_count": null,
      "metadata": {
        "collapsed": false
      },
      "outputs": [],
      "source": [
        "outputs = net(sequences)"
      ]
    },
    {
      "cell_type": "markdown",
      "metadata": {},
      "source": [
        "The outputs are energies for the 5 classes.\nThe higher the energy for a class, the more the network\nthinks that the sequence is of the particular class.\nSo, let's get the index of the highest energy:\n\n"
      ]
    },
    {
      "cell_type": "code",
      "execution_count": null,
      "metadata": {
        "collapsed": false
      },
      "outputs": [],
      "source": [
        "_, predicted = torch.max(outputs, 1)\n\nprint('Predicted: ', ' '.join(f'{classes[predicted[j]]:5s}'\n                              for j in range(4)))"
      ]
    },
    {
      "cell_type": "markdown",
      "metadata": {},
      "source": [
        "The results seem pretty good.\n\nLet us look at how the network performs on the whole dataset.\n\n"
      ]
    },
    {
      "cell_type": "code",
      "execution_count": null,
      "metadata": {
        "collapsed": false
      },
      "outputs": [],
      "source": [
        "correct = 0\ntotal = 0\n# since we're not training, we don't need to calculate the gradients for our outputs\nwith torch.no_grad():\n    for data in testloader:\n        sequences, labels = data\n        # calculate outputs by running sequences through the network\n        outputs = net(sequences)\n        # the class with the highest energy is what we choose as prediction\n        _, predicted = torch.max(outputs.data, 1)\n        total += labels.size(0)\n        correct += (predicted == labels).sum().item()\n\nprint(f'Accuracy of the network on the 30 test sequences: {100 * correct // total} %')"
      ]
    },
    {
      "cell_type": "markdown",
      "metadata": {},
      "source": [
        "That looks way better than chance, which is 20% accuracy (randomly picking\na class out of 5 classes).\nSeems like the network learnt something.\n\nHmmm, what are the classes that performed well, and the classes that did\nnot perform well:\n\n"
      ]
    },
    {
      "cell_type": "code",
      "execution_count": null,
      "metadata": {
        "collapsed": false
      },
      "outputs": [],
      "source": [
        "# prepare to count predictions for each class\ncorrect_pred = {classname: 0 for classname in classes}\ntotal_pred = {classname: 0 for classname in classes}\n\n# again no gradients needed\nwith torch.no_grad():\n    for data in testloader:\n        sequences, labels = data\n        outputs = net(sequences)\n        _, predictions = torch.max(outputs, 1)\n        # collect the correct predictions for each class\n        for label, prediction in zip(labels, predictions):\n            if label == prediction:\n                correct_pred[classes[label]] += 1\n            total_pred[classes[label]] += 1\n\n# print accuracy for each class\nfor classname, correct_count in correct_pred.items():\n    accuracy = 100 * float(correct_count) / total_pred[classname]\n    print(f'Accuracy for class: {classname:5s} is {accuracy:.1f} %')"
      ]
    },
    {
      "cell_type": "markdown",
      "metadata": {},
      "source": [
        "Okay, so what next?\n\nHow do we run these neural networks on the GPU?\n\n## Training on GPU\nJust like how you transfer a Tensor onto the GPU, you transfer the neural\nnet onto the GPU.\n\nLet's first define our device as the first visible cuda device if we have\nCUDA available:\n\n"
      ]
    },
    {
      "cell_type": "code",
      "execution_count": null,
      "metadata": {
        "collapsed": false
      },
      "outputs": [],
      "source": [
        "device = torch.device('cuda:0' if torch.cuda.is_available() else 'cpu')\n\n# Assuming that we are on a CUDA machine, this should print a CUDA device:\n\nprint(device)"
      ]
    },
    {
      "cell_type": "markdown",
      "metadata": {},
      "source": [
        "The rest of this section assumes that ``device`` is a CUDA device.\n\nThen these methods will recursively go over all modules and convert their\nparameters and buffers to CUDA tensors:\n\n.. code:: python\n\n    net.to(device)\n\n\nRemember that you will have to send the inputs and targets at every step\nto the GPU too:\n\n.. code:: python\n\n        inputs, labels = data[0].to(device), data[1].to(device)\n\nWhy don't I notice MASSIVE speedup compared to CPU? Because your network\nis tiny.\n\n"
      ]
    }
  ],
  "metadata": {
    "kernelspec": {
      "display_name": "Python 3",
      "language": "python",
      "name": "python3"
    },
    "language_info": {
      "codemirror_mode": {
        "name": "ipython",
        "version": 3
      },
      "file_extension": ".py",
      "mimetype": "text/x-python",
      "name": "python",
      "nbconvert_exporter": "python",
      "pygments_lexer": "ipython3",
      "version": "3.9.13"
    }
  },
  "nbformat": 4,
  "nbformat_minor": 0
}